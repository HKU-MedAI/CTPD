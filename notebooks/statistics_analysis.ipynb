{
 "cells": [
  {
   "cell_type": "code",
   "execution_count": 1,
   "metadata": {},
   "outputs": [],
   "source": [
    "import numpy as np\n",
    "from scipy import stats"
   ]
  },
  {
   "cell_type": "code",
   "execution_count": 3,
   "metadata": {},
   "outputs": [],
   "source": [
    "mean_1 = [87.88, 53.58, 51.95, 82.14, 54.57, 52.13]\n",
    "std_1 = [0.07, 0.24, 0.64, 0.07, 0.15, 0.79]\n",
    "mean_2 = [88.15, 53.86, 53.85, 83.34, 56.39, 53.83]\n",
    "std_2 = [0.28, 0.65, 9.16, 0.05, 0.17, 0.43]"
   ]
  },
  {
   "cell_type": "code",
   "execution_count": 12,
   "metadata": {},
   "outputs": [
    {
     "data": {
      "text/plain": [
       "array([0.27, 0.28, 1.9 , 1.2 , 1.82, 1.7 ])"
      ]
     },
     "execution_count": 12,
     "metadata": {},
     "output_type": "execute_result"
    }
   ],
   "source": [
    "np.array(mean_2) - np.array(mean_1)"
   ]
  },
  {
   "cell_type": "code",
   "execution_count": 13,
   "metadata": {},
   "outputs": [],
   "source": [
    "samples_1 = np.random.normal(mean_1, std_1, (1000, 6))\n",
    "samples_2 = np.random.normal(mean_2, std_2, (1000, 6))"
   ]
  },
  {
   "cell_type": "code",
   "execution_count": 14,
   "metadata": {},
   "outputs": [
    {
     "data": {
      "text/plain": [
       "TtestResult(statistic=array([ -29.32413934,  -14.27978166,   -7.51207505, -438.85733675,\n",
       "       -247.06238296,  -60.10965255]), pvalue=array([1.64062368e-157, 4.01663030e-044, 8.72493144e-014, 0.00000000e+000,\n",
       "       0.00000000e+000, 0.00000000e+000]), df=array([1998., 1998., 1998., 1998., 1998., 1998.]))"
      ]
     },
     "execution_count": 14,
     "metadata": {},
     "output_type": "execute_result"
    }
   ],
   "source": [
    "stats.ttest_ind(samples_1, samples_2)"
   ]
  },
  {
   "cell_type": "code",
   "execution_count": null,
   "metadata": {},
   "outputs": [],
   "source": []
  }
 ],
 "metadata": {
  "kernelspec": {
   "display_name": "ehr",
   "language": "python",
   "name": "python3"
  },
  "language_info": {
   "codemirror_mode": {
    "name": "ipython",
    "version": 3
   },
   "file_extension": ".py",
   "mimetype": "text/x-python",
   "name": "python",
   "nbconvert_exporter": "python",
   "pygments_lexer": "ipython3",
   "version": "3.10.14"
  }
 },
 "nbformat": 4,
 "nbformat_minor": 2
}
