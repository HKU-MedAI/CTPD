{
 "cells": [
  {
   "cell_type": "code",
   "execution_count": 4,
   "metadata": {},
   "outputs": [],
   "source": [
    "import numpy as np\n",
    "import pandas as pd\n",
    "import math\n",
    "import matplotlib.pyplot as plt\n",
    "import seaborn as sns\n",
    "import textwrap"
   ]
  },
  {
   "cell_type": "code",
   "execution_count": 13,
   "metadata": {},
   "outputs": [
    {
     "data": {
      "text/html": [
       "<div>\n",
       "<style scoped>\n",
       "    .dataframe tbody tr th:only-of-type {\n",
       "        vertical-align: middle;\n",
       "    }\n",
       "\n",
       "    .dataframe tbody tr th {\n",
       "        vertical-align: top;\n",
       "    }\n",
       "\n",
       "    .dataframe thead th {\n",
       "        text-align: right;\n",
       "    }\n",
       "</style>\n",
       "<table border=\"1\" class=\"dataframe\">\n",
       "  <thead>\n",
       "    <tr style=\"text-align: right;\">\n",
       "      <th></th>\n",
       "      <th># Prototypes</th>\n",
       "      <th>AUROC</th>\n",
       "      <th>AUPR</th>\n",
       "    </tr>\n",
       "  </thead>\n",
       "  <tbody>\n",
       "    <tr>\n",
       "      <th>0</th>\n",
       "      <td>4</td>\n",
       "      <td>0.8722</td>\n",
       "      <td>0.5252</td>\n",
       "    </tr>\n",
       "    <tr>\n",
       "      <th>1</th>\n",
       "      <td>8</td>\n",
       "      <td>0.8801</td>\n",
       "      <td>0.5451</td>\n",
       "    </tr>\n",
       "    <tr>\n",
       "      <th>2</th>\n",
       "      <td>16</td>\n",
       "      <td>0.8815</td>\n",
       "      <td>0.5386</td>\n",
       "    </tr>\n",
       "    <tr>\n",
       "      <th>3</th>\n",
       "      <td>32</td>\n",
       "      <td>0.8750</td>\n",
       "      <td>0.5457</td>\n",
       "    </tr>\n",
       "    <tr>\n",
       "      <th>4</th>\n",
       "      <td>64</td>\n",
       "      <td>0.8701</td>\n",
       "      <td>0.5348</td>\n",
       "    </tr>\n",
       "  </tbody>\n",
       "</table>\n",
       "</div>"
      ],
      "text/plain": [
       "   # Prototypes   AUROC    AUPR\n",
       "0             4  0.8722  0.5252\n",
       "1             8  0.8801  0.5451\n",
       "2            16  0.8815  0.5386\n",
       "3            32  0.8750  0.5457\n",
       "4            64  0.8701  0.5348"
      ]
     },
     "execution_count": 13,
     "metadata": {},
     "output_type": "execute_result"
    }
   ],
   "source": [
    "ihm_mean_results = np.array([\n",
    "    [87.22, 52.52, 48.23],\n",
    "    [88.01, 54.51, 50.19],\n",
    "    [88.15, 53.86, 53.85],\n",
    "    [87.50, 54.57, 45.59],\n",
    "    [87.01, 53.48, 50.37]\n",
    "]) / 100\n",
    "ihm_mean_df = pd.DataFrame({\n",
    "    \"# Prototypes\": [4, 8, 16, 32, 64],\n",
    "    \"AUROC\": ihm_mean_results[:, 0],\n",
    "    \"AUPR\": ihm_mean_results[:, 1],\n",
    "    # \"F1\": mean_results[:, 2]\n",
    "})\n",
    "ihm_mean_df"
   ]
  },
  {
   "cell_type": "code",
   "execution_count": 14,
   "metadata": {},
   "outputs": [
    {
     "data": {
      "text/html": [
       "<div>\n",
       "<style scoped>\n",
       "    .dataframe tbody tr th:only-of-type {\n",
       "        vertical-align: middle;\n",
       "    }\n",
       "\n",
       "    .dataframe tbody tr th {\n",
       "        vertical-align: top;\n",
       "    }\n",
       "\n",
       "    .dataframe thead th {\n",
       "        text-align: right;\n",
       "    }\n",
       "</style>\n",
       "<table border=\"1\" class=\"dataframe\">\n",
       "  <thead>\n",
       "    <tr style=\"text-align: right;\">\n",
       "      <th></th>\n",
       "      <th># Prototypes</th>\n",
       "      <th>AUROC</th>\n",
       "      <th>AUPR</th>\n",
       "    </tr>\n",
       "  </thead>\n",
       "  <tbody>\n",
       "    <tr>\n",
       "      <th>0</th>\n",
       "      <td>4</td>\n",
       "      <td>0.8241</td>\n",
       "      <td>0.5430</td>\n",
       "    </tr>\n",
       "    <tr>\n",
       "      <th>1</th>\n",
       "      <td>8</td>\n",
       "      <td>0.8311</td>\n",
       "      <td>0.5596</td>\n",
       "    </tr>\n",
       "    <tr>\n",
       "      <th>2</th>\n",
       "      <td>16</td>\n",
       "      <td>0.8334</td>\n",
       "      <td>0.5639</td>\n",
       "    </tr>\n",
       "    <tr>\n",
       "      <th>3</th>\n",
       "      <td>32</td>\n",
       "      <td>0.8241</td>\n",
       "      <td>0.5429</td>\n",
       "    </tr>\n",
       "    <tr>\n",
       "      <th>4</th>\n",
       "      <td>64</td>\n",
       "      <td>0.8228</td>\n",
       "      <td>0.5417</td>\n",
       "    </tr>\n",
       "  </tbody>\n",
       "</table>\n",
       "</div>"
      ],
      "text/plain": [
       "   # Prototypes   AUROC    AUPR\n",
       "0             4  0.8241  0.5430\n",
       "1             8  0.8311  0.5596\n",
       "2            16  0.8334  0.5639\n",
       "3            32  0.8241  0.5429\n",
       "4            64  0.8228  0.5417"
      ]
     },
     "execution_count": 14,
     "metadata": {},
     "output_type": "execute_result"
    }
   ],
   "source": [
    "pheno_mean_results = np.array([\n",
    "    [82.41, 54.30, 53.34],\n",
    "    [83.11, 55.96, 53.82],\n",
    "    [83.34, 56.39, 53.83],\n",
    "    [82.41, 54.29, 53.33],\n",
    "    [82.28, 54.17, 52.84],\n",
    "]) / 100\n",
    "pheno_mean_df = pd.DataFrame({\n",
    "    \"# Prototypes\": [4, 8, 16, 32, 64],\n",
    "    \"AUROC\": pheno_mean_results[:, 0],\n",
    "    \"AUPR\": pheno_mean_results[:, 1],\n",
    "    # \"F1\": mean_results[:, 2]\n",
    "})\n",
    "pheno_mean_df"
   ]
  },
  {
   "cell_type": "code",
   "execution_count": 15,
   "metadata": {},
   "outputs": [],
   "source": [
    "# fig, axes = plt.subplots(2, 3, figsize=(15, 10))\n",
    "\n",
    "# axes[0, 0].bar(np.arange(len(mean_df)), mean_df[\"AUROC\"])\n",
    "# axes[0, 0].set_ylim(0.8, 0.9)\n",
    "# axes[0, 0].set_title(\"AUROC vs. # Prototypes\")\n",
    "\n",
    "# axes[0, 1].bar(np.arange(len(mean_df)), mean_df[\"AUPR\"])\n",
    "# axes[0, 1].set_ylim(0.5, 0.6)\n",
    "# axes[0, 1].set_title(\"AUPR vs. # Prototypes\")\n",
    "\n",
    "# axes[0, 2].bar(np.arange(len(mean_df)), mean_df[\"F1\"])\n",
    "# axes[0, 2].set_ylim(0.4, 0.6)\n",
    "# axes[0, 2].set_title(\"F1 vs. # Prototypes\")\n"
   ]
  },
  {
   "cell_type": "code",
   "execution_count": 16,
   "metadata": {},
   "outputs": [
    {
     "name": "stdout",
     "output_type": "stream",
     "text": [
      "[-1  2  5  8 11]\n"
     ]
    },
    {
     "name": "stderr",
     "output_type": "stream",
     "text": [
      "/tmp/ipykernel_3034670/2238243477.py:12: MatplotlibDeprecationWarning: The get_cmap function was deprecated in Matplotlib 3.7 and will be removed two minor releases later. Use ``matplotlib.colormaps[name]`` or ``matplotlib.colormaps.get_cmap(obj)`` instead.\n",
      "  my_cmap = plt.cm.get_cmap('RdYlGn')\n"
     ]
    }
   ],
   "source": [
    "w = 1\n",
    "num_pathologies = len(ihm_mean_df)\n",
    "num_methods = len(ihm_mean_df.columns) - 1\n",
    "\n",
    "first_tick = int(math.ceil((num_methods*w/2))) - 2\n",
    "gap = num_methods + 1\n",
    "x = np.array([first_tick + i*gap for i in range(num_pathologies)])\n",
    "print(x)\n",
    "\n",
    "data_color = [0, 1]\n",
    "data_color = [x / max(data_color) for x in data_color]\n",
    "my_cmap = plt.cm.get_cmap('RdYlGn')\n",
    "# my_cmap = plt.cm.get_cmap('Spectral_r')\n",
    "colors = my_cmap(data_color)"
   ]
  },
  {
   "cell_type": "code",
   "execution_count": 17,
   "metadata": {},
   "outputs": [
    {
     "data": {
      "text/plain": [
       "array([0.8722, 0.8801, 0.8815, 0.875 , 0.8701])"
      ]
     },
     "execution_count": 17,
     "metadata": {},
     "output_type": "execute_result"
    }
   ],
   "source": [
    "ihm_mean_df.iloc[:, 1].values"
   ]
  },
  {
   "cell_type": "code",
   "execution_count": 33,
   "metadata": {},
   "outputs": [
    {
     "data": {
      "image/png": "[encoded data removed]",
      "text/plain": [
       "<Figure size 1100x1000 with 4 Axes>"
      ]
     },
     "metadata": {},
     "output_type": "display_data"
    }
   ],
   "source": [
    "fig, axes = plt.subplots(2, 1, figsize=(11, 10))\n",
    "ax = axes[0]\n",
    "ax2 = ax.twinx() # Create another axes that shares the same x-axis as ax.\n",
    "b = []\n",
    "b.append(ax.bar(x - (0 - num_methods/2 + 0.5), \n",
    "                        ihm_mean_df.iloc[:, 1].values, \n",
    "                        width=w, \n",
    "                        color=colors[0],\n",
    "                        align='center', \n",
    "                        edgecolor=colors[0],\n",
    "                        linewidth = 1.0, \n",
    "                        alpha=1))\n",
    "\n",
    "b.append(ax2.bar(x - (1 - num_methods/2 + 0.5), \n",
    "                        ihm_mean_df.iloc[:, 2].values, \n",
    "                        width=w, \n",
    "                        color=colors[1],\n",
    "                        align='center', \n",
    "                        edgecolor=colors[1],\n",
    "                        linewidth = 1.0, \n",
    "                        alpha=1))\n",
    "ax.set_xlabel('# Prototypes', fontsize=14)\n",
    "ax.set_xticks(x)\n",
    "# pathologies = [textwrap.fill(l, width=10, break_long_words=False) for l in ihm_mean_df[\"# Prototypes\"].values]\n",
    "# print(pathologies)\n",
    "ax.set_xticklabels(ihm_mean_df[\"# Prototypes\"].values, fontsize=12)\n",
    "ax.set_ylabel('AUROC', fontsize=14)\n",
    "ax.tick_params(axis='y', which='major', labelsize=14)\n",
    "ax.set_ylim(0.8, 0.9)\n",
    "ax2.set_ylabel('AUPR', fontsize=14)\n",
    "ax2.tick_params(axis='y', which='major', labelsize=14)\n",
    "ax2.set_ylim(0.5, 0.66)\n",
    "# ax.grid(linestyle='--')\n",
    "ax.spines[['top']].set_visible(False)\n",
    "ax.set_title(\"48-IHM\", fontsize=14)\n",
    "\n",
    "ax.legend([b_ for b_ in b],\n",
    "            [\"AUROC\", \"AUPR\"],\n",
    "            fontsize=14,\n",
    "            # loc='lower center', bbox_to_anchor=(0.5, -0.2),\n",
    "            ncol=2, fancybox=True, shadow=True)\n",
    "\n",
    "ax = axes[1]\n",
    "ax2 = ax.twinx() # Create another axes that shares the same x-axis as ax.\n",
    "b = []\n",
    "b.append(ax.bar(x - (0 - num_methods/2 + 0.5), \n",
    "                        pheno_mean_df.iloc[:, 1].values, \n",
    "                        width=w, \n",
    "                        color=colors[0],\n",
    "                        align='center', \n",
    "                        edgecolor=colors[0],\n",
    "                        linewidth = 1.0, \n",
    "                        alpha=1))\n",
    "\n",
    "b.append(ax2.bar(x - (1 - num_methods/2 + 0.5), \n",
    "                        pheno_mean_df.iloc[:, 2].values, \n",
    "                        width=w, \n",
    "                        color=colors[1],\n",
    "                        align='center', \n",
    "                        edgecolor=colors[1],\n",
    "                        linewidth = 1.0, \n",
    "                        alpha=1))\n",
    "ax.set_xlabel('# Prototypes', fontsize=14)\n",
    "ax.set_xticks(x)\n",
    "# pathologies = [textwrap.fill(l, width=10, break_long_words=False) for l in pheno_mean_df[\"# Prototypes\"].values]\n",
    "# print(pathologies)\n",
    "ax.set_xticklabels(pheno_mean_df[\"# Prototypes\"].values, fontsize=12)\n",
    "ax.set_ylabel('AUROC', fontsize=14)\n",
    "ax.tick_params(axis='y', which='major', labelsize=14)\n",
    "ax.set_ylim(0.75, 0.85)\n",
    "ax2.set_ylabel('AUPR', fontsize=14)\n",
    "ax2.tick_params(axis='y', which='major', labelsize=14)\n",
    "ax2.set_ylim(0.5, 0.6)\n",
    "# ax.grid(linestyle='--')\n",
    "ax.spines[['right', 'top']].set_visible(False)\n",
    "ax.set_title(\"24-PHE\", fontsize=14)\n",
    "ax.legend([b_ for b_ in b],\n",
    "            [\"AUROC\", \"AUPR\"],\n",
    "            fontsize=14,\n",
    "            # loc='lower center', bbox_to_anchor=(0.5, -0.2),\n",
    "            ncol=2, fancybox=True, shadow=True)\n",
    "\n",
    "plt.tight_layout()\n",
    "plt.savefig(\"hypermarameter.pdf\", bbox_inches='tight', pad_inches=0.)"
   ]
  },
  {
   "cell_type": "code",
   "execution_count": null,
   "metadata": {},
   "outputs": [
    {
     "data": {
      "text/plain": [
       "0.030450000000000005"
      ]
     },
     "execution_count": 7,
     "metadata": {},
     "output_type": "execute_result"
    }
   ],
   "source": [
    "import numpy as np\n",
    "\n",
    "np.std([0.4189, 0.3580])"
   ]
  },
  {
   "cell_type": "code",
   "execution_count": 1,
   "metadata": {},
   "outputs": [
    {
     "data": {
      "text/plain": [
       "1.8999999999999986"
      ]
     },
     "execution_count": 1,
     "metadata": {},
     "output_type": "execute_result"
    }
   ],
   "source": [
    "53.85 - 51.95"
   ]
  },
  {
   "cell_type": "code",
   "execution_count": 2,
   "metadata": {},
   "outputs": [
    {
     "data": {
      "text/plain": [
       "1.8200000000000003"
      ]
     },
     "execution_count": 2,
     "metadata": {},
     "output_type": "execute_result"
    }
   ],
   "source": [
    "56.39 - 54.57"
   ]
  },
  {
   "cell_type": "code",
   "execution_count": 3,
   "metadata": {},
   "outputs": [
    {
     "data": {
      "text/plain": [
       "1.960000000000008"
      ]
     },
     "execution_count": 3,
     "metadata": {},
     "output_type": "execute_result"
    }
   ],
   "source": [
    "88.15 - 86.19"
   ]
  },
  {
   "cell_type": "code",
   "execution_count": 6,
   "metadata": {},
   "outputs": [
    {
     "data": {
      "text/plain": [
       "0.8500000000000085"
      ]
     },
     "execution_count": 6,
     "metadata": {},
     "output_type": "execute_result"
    }
   ],
   "source": [
    "83.34 - 82.49"
   ]
  },
  {
   "cell_type": "code",
   "execution_count": null,
   "metadata": {},
   "outputs": [],
   "source": []
  }
 ],
 "metadata": {
  "kernelspec": {
   "display_name": "ehr",
   "language": "python",
   "name": "python3"
  },
  "language_info": {
   "codemirror_mode": {
    "name": "ipython",
    "version": 3
   },
   "file_extension": ".py",
   "mimetype": "text/x-python",
   "name": "python",
   "nbconvert_exporter": "python",
   "pygments_lexer": "ipython3",
   "version": "3.10.14"
  }
 },
 "nbformat": 4,
 "nbformat_minor": 2
}
